{
 "cells": [
  {
   "cell_type": "markdown",
   "metadata": {},
   "source": [
    "## 准备数据"
   ]
  },
  {
   "cell_type": "code",
   "execution_count": 2,
   "metadata": {},
   "outputs": [],
   "source": [
    "import os\n",
    "import numpy as np\n",
    "import tensorflow as tf\n",
    "from tensorflow import keras\n",
    "from tensorflow.keras import layers, optimizers, datasets\n",
    "\n",
    "os.environ['TF_CPP_MIN_LOG_LEVEL'] = '2'  # or any {'0', '1', '2'}\n",
    "\n",
    "def mnist_dataset():\n",
    "    (x, y), (x_test, y_test) = datasets.mnist.load_data()\n",
    "    #normalize\n",
    "    x = x/255.0\n",
    "    x_test = x_test/255.0\n",
    "    \n",
    "    return (x, y), (x_test, y_test)"
   ]
  },
  {
   "cell_type": "code",
   "execution_count": 3,
   "metadata": {},
   "outputs": [
    {
     "name": "stdout",
     "output_type": "stream",
     "text": [
      "[(1, 'a'), (2, 'b'), (3, 'c'), (4, 'd')]\n"
     ]
    }
   ],
   "source": [
    "print(list(zip([1, 2, 3, 4], ['a', 'b', 'c', 'd'])))"
   ]
  },
  {
   "cell_type": "markdown",
   "metadata": {},
   "source": [
    "## 建立模型"
   ]
  },
  {
   "cell_type": "code",
   "execution_count": 12,
   "metadata": {},
   "outputs": [],
   "source": [
    "class myModel:\n",
    "    def __init__(self):\n",
    "        ####################\n",
    "        '''声明模型对应的参数'''\n",
    "        ####################\n",
    "        # 使用 GlorotNormal 初始化权重，偏置初始化为零\n",
    "        initializer = tf.initializers.he_normal()\n",
    "        #initializer = tf.initializers.HeNormal()\n",
    "        self.l1 = 2048\n",
    "        self.W1 = tf.Variable(initializer([28 * 28, self.l1]), dtype=tf.float32)  # 权重 W1，形状 [784, self.l1]\n",
    "        self.b1 = tf.Variable(tf.zeros(self.l1), dtype=tf.float32)\n",
    "        self.W2 = tf.Variable(initializer([self.l1, 10]), dtype=tf.float32)  # 权重 W2，形状 [self.l1, 10]\n",
    "        self.b2 = tf.Variable(tf.zeros(10), dtype=tf.float32)\n",
    "        \n",
    "    def __call__(self, x, training=True):\n",
    "        ####################\n",
    "        '''实现模型函数体，返回未归一化的logits'''\n",
    "        ####################\n",
    "        # 输入x的形状为(60000, 28, 28)\n",
    "        x = tf.reshape(x, [-1, 28*28])\n",
    "        h1 = tf.nn.relu(x @ self.W1 + self.b1) # 第一层全连接+relu\n",
    "        if training:\n",
    "            h1 = tf.nn.dropout(h1, rate=0.2) # dropout\n",
    "        logits = h1 @ self.W2 + self.b2 # 全连接输出logits\n",
    "        return logits\n",
    "        \n",
    "model = myModel()\n",
    "\n",
    "optimizer = optimizers.Adam()"
   ]
  },
  {
   "cell_type": "markdown",
   "metadata": {},
   "source": [
    "## 计算 loss"
   ]
  },
  {
   "cell_type": "code",
   "execution_count": 5,
   "metadata": {},
   "outputs": [],
   "source": [
    "@tf.function\n",
    "def compute_loss(logits, labels):\n",
    "    return tf.reduce_mean(\n",
    "        tf.nn.sparse_softmax_cross_entropy_with_logits(\n",
    "            logits=logits, labels=labels))\n",
    "\n",
    "@tf.function\n",
    "def compute_accuracy(logits, labels):\n",
    "    predictions = tf.argmax(logits, axis=1)\n",
    "    return tf.reduce_mean(tf.cast(tf.equal(predictions, labels), tf.float32))\n",
    "\n",
    "@tf.function\n",
    "def train_one_step(model, optimizer, x, y):\n",
    "    with tf.GradientTape() as tape:\n",
    "        logits = model(x)\n",
    "        loss = compute_loss(logits, y)\n",
    "\n",
    "    # compute gradient\n",
    "    trainable_vars = [model.W1, model.W2, model.b1, model.b2]\n",
    "    grads = tape.gradient(loss, trainable_vars)\n",
    "    for g, v in zip(grads, trainable_vars):\n",
    "        v.assign_sub(0.01*g)\n",
    "\n",
    "    accuracy = compute_accuracy(logits, y)\n",
    "\n",
    "    # loss and accuracy is scalar tensor\n",
    "    return loss, accuracy\n",
    "\n",
    "@tf.function\n",
    "def test(model, x, y):\n",
    "    logits = model(x, training=False)\n",
    "    loss = compute_loss(logits, y)\n",
    "    accuracy = compute_accuracy(logits, y)\n",
    "    return loss, accuracy"
   ]
  },
  {
   "cell_type": "markdown",
   "metadata": {},
   "source": [
    "## 实际训练"
   ]
  },
  {
   "cell_type": "code",
   "execution_count": 13,
   "metadata": {},
   "outputs": [
    {
     "name": "stdout",
     "output_type": "stream",
     "text": [
      "epoch 0 : loss 2.4528577 ; accuracy 0.106983334\n",
      "epoch 1 : loss 2.3942323 ; accuracy 0.11288334\n",
      "epoch 2 : loss 2.3499475 ; accuracy 0.120516665\n",
      "epoch 3 : loss 2.3115704 ; accuracy 0.13265\n",
      "epoch 4 : loss 2.277062 ; accuracy 0.14861667\n",
      "epoch 5 : loss 2.246268 ; accuracy 0.1687\n",
      "epoch 6 : loss 2.2182252 ; accuracy 0.18843333\n",
      "epoch 7 : loss 2.1890917 ; accuracy 0.2119\n",
      "epoch 8 : loss 2.1644673 ; accuracy 0.23323333\n",
      "epoch 9 : loss 2.137699 ; accuracy 0.25586668\n",
      "epoch 10 : loss 2.112909 ; accuracy 0.27835\n",
      "epoch 11 : loss 2.0890102 ; accuracy 0.29831666\n",
      "epoch 12 : loss 2.0656009 ; accuracy 0.31935\n",
      "epoch 13 : loss 2.0407588 ; accuracy 0.3429\n",
      "epoch 14 : loss 2.0191789 ; accuracy 0.3609\n",
      "epoch 15 : loss 1.9985219 ; accuracy 0.38266668\n",
      "epoch 16 : loss 1.9754335 ; accuracy 0.39986667\n",
      "epoch 17 : loss 1.9547541 ; accuracy 0.41596666\n",
      "epoch 18 : loss 1.9338078 ; accuracy 0.433\n",
      "epoch 19 : loss 1.9138193 ; accuracy 0.45011666\n",
      "epoch 20 : loss 1.894219 ; accuracy 0.46358332\n",
      "epoch 21 : loss 1.8739188 ; accuracy 0.47641668\n",
      "epoch 22 : loss 1.8548356 ; accuracy 0.49086666\n",
      "epoch 23 : loss 1.8353114 ; accuracy 0.5071833\n",
      "epoch 24 : loss 1.8165529 ; accuracy 0.51891667\n",
      "epoch 25 : loss 1.799034 ; accuracy 0.52891666\n",
      "epoch 26 : loss 1.7821083 ; accuracy 0.53973335\n",
      "epoch 27 : loss 1.763749 ; accuracy 0.5513833\n",
      "epoch 28 : loss 1.746893 ; accuracy 0.5601\n",
      "epoch 29 : loss 1.7299453 ; accuracy 0.5700833\n",
      "epoch 30 : loss 1.7128385 ; accuracy 0.5811\n",
      "epoch 31 : loss 1.695885 ; accuracy 0.59031665\n",
      "epoch 32 : loss 1.6794001 ; accuracy 0.60008335\n",
      "epoch 33 : loss 1.6628219 ; accuracy 0.6063333\n",
      "epoch 34 : loss 1.6484 ; accuracy 0.612\n",
      "epoch 35 : loss 1.634466 ; accuracy 0.6198\n",
      "epoch 36 : loss 1.6201605 ; accuracy 0.62305\n",
      "epoch 37 : loss 1.6055773 ; accuracy 0.6307167\n",
      "epoch 38 : loss 1.5902689 ; accuracy 0.63916665\n",
      "epoch 39 : loss 1.5774283 ; accuracy 0.64166665\n",
      "epoch 40 : loss 1.5625688 ; accuracy 0.64958334\n",
      "epoch 41 : loss 1.5497141 ; accuracy 0.6548333\n",
      "epoch 42 : loss 1.5360003 ; accuracy 0.66213334\n",
      "epoch 43 : loss 1.5230107 ; accuracy 0.66393334\n",
      "epoch 44 : loss 1.5097322 ; accuracy 0.67045\n",
      "epoch 45 : loss 1.4970545 ; accuracy 0.6741667\n",
      "epoch 46 : loss 1.4850754 ; accuracy 0.67841667\n",
      "epoch 47 : loss 1.4728563 ; accuracy 0.68233335\n",
      "epoch 48 : loss 1.4610039 ; accuracy 0.68275\n",
      "epoch 49 : loss 1.4506197 ; accuracy 0.68953335\n",
      "test loss 1.3950175 ; accuracy 0.7563\n"
     ]
    }
   ],
   "source": [
    "train_data, test_data = mnist_dataset()\n",
    "for epoch in range(50):\n",
    "    loss, accuracy = train_one_step(model, optimizer, \n",
    "                                    tf.constant(train_data[0], dtype=tf.float32), \n",
    "                                    tf.constant(train_data[1], dtype=tf.int64))\n",
    "    print('epoch', epoch, ': loss', loss.numpy(), '; accuracy', accuracy.numpy())\n",
    "loss, accuracy = test(model, \n",
    "                      tf.constant(test_data[0], dtype=tf.float32), \n",
    "                      tf.constant(test_data[1], dtype=tf.int64))\n",
    "\n",
    "print('test loss', loss.numpy(), '; accuracy', accuracy.numpy())"
   ]
  }
 ],
 "metadata": {
  "kernelspec": {
   "display_name": "Python 3",
   "language": "python",
   "name": "python3"
  },
  "language_info": {
   "codemirror_mode": {
    "name": "ipython",
    "version": 3
   },
   "file_extension": ".py",
   "mimetype": "text/x-python",
   "name": "python",
   "nbconvert_exporter": "python",
   "pygments_lexer": "ipython3",
   "version": "3.7.12"
  }
 },
 "nbformat": 4,
 "nbformat_minor": 2
}
